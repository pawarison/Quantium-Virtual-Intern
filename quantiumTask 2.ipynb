{
 "cells": [
  {
   "cell_type": "code",
   "execution_count": 65,
   "id": "c213b141-7b4e-4726-83dc-cab5d4ea4c0b",
   "metadata": {},
   "outputs": [
    {
     "data": {
      "text/html": [
       "<style type='text/css'>\n",
       ".datatable table.frame { margin-bottom: 0; }\n",
       ".datatable table.frame thead { border-bottom: none; }\n",
       ".datatable table.frame tr.coltypes td {  color: #FFFFFF;  line-height: 6px;  padding: 0 0.5em;}\n",
       ".datatable .bool    { background: #DDDD99; }\n",
       ".datatable .object  { background: #565656; }\n",
       ".datatable .int     { background: #5D9E5D; }\n",
       ".datatable .float   { background: #4040CC; }\n",
       ".datatable .str     { background: #CC4040; }\n",
       ".datatable .time    { background: #40CC40; }\n",
       ".datatable .row_index {  background: var(--jp-border-color3);  border-right: 1px solid var(--jp-border-color0);  color: var(--jp-ui-font-color3);  font-size: 9px;}\n",
       ".datatable .frame tbody td { text-align: left; }\n",
       ".datatable .frame tr.coltypes .row_index {  background: var(--jp-border-color0);}\n",
       ".datatable th:nth-child(2) { padding-left: 12px; }\n",
       ".datatable .hellipsis {  color: var(--jp-cell-editor-border-color);}\n",
       ".datatable .vellipsis {  background: var(--jp-layout-color0);  color: var(--jp-cell-editor-border-color);}\n",
       ".datatable .na {  color: var(--jp-cell-editor-border-color);  font-size: 80%;}\n",
       ".datatable .sp {  opacity: 0.25;}\n",
       ".datatable .footer { font-size: 9px; }\n",
       ".datatable .frame_dimensions {  background: var(--jp-border-color3);  border-top: 1px solid var(--jp-border-color0);  color: var(--jp-ui-font-color3);  display: inline-block;  opacity: 0.6;  padding: 1px 10px 1px 5px;}\n",
       "</style>\n"
      ],
      "text/plain": [
       "<IPython.core.display.HTML object>"
      ]
     },
     "metadata": {},
     "output_type": "display_data"
    }
   ],
   "source": [
    "import pandas as pd\n",
    "import numpy as np\n",
    "import seaborn as sns\n",
    "import matplotlib.pyplot as plt\n",
    "import matplotlib as mpl\n",
    "from datetime import date\n",
    "import datatable as dt \n",
    "%matplotlib inline"
   ]
  },
  {
   "cell_type": "markdown",
   "id": "b793ebeb-aef2-407d-a5b0-13ce942f7a3c",
   "metadata": {},
   "source": [
    "We will be examining the performance in trial vs control stores to provide a recommendation for each location based on our insight.\n",
    "\n",
    "Select control stores – explore the data and define metrics for control store selection – \"What would make them a control store?\" Visualize the drivers to see suitability.\n",
    "\n",
    "Assessment of the trial – get insights of each of the stores. Compare each trial store with ontrol store to get its overall performance. We want to know if the trial stores were successful or not.\n",
    "\n",
    "Collate findings – summarise findings for each store and provide recommendations to share with client outlining the impact on sales during trial period.\n"
   ]
  },
  {
   "cell_type": "code",
   "execution_count": 68,
   "id": "d714eac1-187a-439e-95f8-12df3fe831db",
   "metadata": {},
   "outputs": [],
   "source": [
    "df = dt.fread('QVI_data.csv').to_pandas()"
   ]
  },
  {
   "cell_type": "code",
   "execution_count": 75,
   "id": "d006d79b-dae8-49ca-8219-c93db0bab9cb",
   "metadata": {},
   "outputs": [],
   "source": [
    "df['DATE'] = pd.to_datetime(df['DATE'])"
   ]
  },
  {
   "cell_type": "code",
   "execution_count": 76,
   "id": "7503c307-607d-4272-ae67-88b16326fc96",
   "metadata": {},
   "outputs": [
    {
     "data": {
      "text/plain": [
       "(264834, 12)"
      ]
     },
     "execution_count": 76,
     "metadata": {},
     "output_type": "execute_result"
    }
   ],
   "source": [
    "df.shape"
   ]
  },
  {
   "cell_type": "code",
   "execution_count": 77,
   "id": "d4c26f48-28fa-43e1-9ec7-99e275466a26",
   "metadata": {},
   "outputs": [],
   "source": [
    "# change name to lower\n",
    "df.columns = df.columns.str.lower()"
   ]
  },
  {
   "cell_type": "code",
   "execution_count": 78,
   "id": "cf5a25fd-ba48-41c1-aa0d-e28b3412db4a",
   "metadata": {},
   "outputs": [],
   "source": [
    "# Create yearmont columns\n",
    "df.insert(1, 'year_month',df.date.dt.to_period('M'))"
   ]
  },
  {
   "cell_type": "code",
   "execution_count": 79,
   "id": "ccf77249-cc39-45c5-8a63-1202e2ba0446",
   "metadata": {},
   "outputs": [],
   "source": [
    "#find store_nbr that open by 12 month \n",
    "ck = df.groupby('store_nbr')['year_month'].nunique()\n",
    "cklist = ck[ck == 12].index.to_list()\n",
    "df = df[df.store_nbr.isin(cklist)]"
   ]
  },
  {
   "cell_type": "code",
   "execution_count": 80,
   "id": "8818518f-9cb4-42ba-8944-fa849e646109",
   "metadata": {},
   "outputs": [
    {
     "data": {
      "text/html": [
       "<div>\n",
       "<style scoped>\n",
       "    .dataframe tbody tr th:only-of-type {\n",
       "        vertical-align: middle;\n",
       "    }\n",
       "\n",
       "    .dataframe tbody tr th {\n",
       "        vertical-align: top;\n",
       "    }\n",
       "\n",
       "    .dataframe thead th {\n",
       "        text-align: right;\n",
       "    }\n",
       "</style>\n",
       "<table border=\"1\" class=\"dataframe\">\n",
       "  <thead>\n",
       "    <tr style=\"text-align: right;\">\n",
       "      <th></th>\n",
       "      <th>lylty_card_nbr</th>\n",
       "      <th>year_month</th>\n",
       "      <th>date</th>\n",
       "      <th>store_nbr</th>\n",
       "      <th>txn_id</th>\n",
       "      <th>prod_nbr</th>\n",
       "      <th>prod_name</th>\n",
       "      <th>prod_qty</th>\n",
       "      <th>tot_sales</th>\n",
       "      <th>pack_size</th>\n",
       "      <th>brand</th>\n",
       "      <th>lifestage</th>\n",
       "      <th>premium_customer</th>\n",
       "    </tr>\n",
       "  </thead>\n",
       "  <tbody>\n",
       "    <tr>\n",
       "      <th>0</th>\n",
       "      <td>1000</td>\n",
       "      <td>2018-10</td>\n",
       "      <td>2018-10-17</td>\n",
       "      <td>1</td>\n",
       "      <td>1</td>\n",
       "      <td>5</td>\n",
       "      <td>Natural Chip        Compny SeaSalt175g</td>\n",
       "      <td>2</td>\n",
       "      <td>6.0</td>\n",
       "      <td>175</td>\n",
       "      <td>NATURAL</td>\n",
       "      <td>YOUNG SINGLES/COUPLES</td>\n",
       "      <td>Premium</td>\n",
       "    </tr>\n",
       "    <tr>\n",
       "      <th>1</th>\n",
       "      <td>1002</td>\n",
       "      <td>2018-09</td>\n",
       "      <td>2018-09-16</td>\n",
       "      <td>1</td>\n",
       "      <td>2</td>\n",
       "      <td>58</td>\n",
       "      <td>Red Rock Deli Chikn&amp;Garlic Aioli 150g</td>\n",
       "      <td>1</td>\n",
       "      <td>2.7</td>\n",
       "      <td>150</td>\n",
       "      <td>RRD</td>\n",
       "      <td>YOUNG SINGLES/COUPLES</td>\n",
       "      <td>Mainstream</td>\n",
       "    </tr>\n",
       "    <tr>\n",
       "      <th>2</th>\n",
       "      <td>1003</td>\n",
       "      <td>2019-03</td>\n",
       "      <td>2019-03-07</td>\n",
       "      <td>1</td>\n",
       "      <td>3</td>\n",
       "      <td>52</td>\n",
       "      <td>Grain Waves Sour    Cream&amp;Chives 210G</td>\n",
       "      <td>1</td>\n",
       "      <td>3.6</td>\n",
       "      <td>210</td>\n",
       "      <td>GRNWVES</td>\n",
       "      <td>YOUNG FAMILIES</td>\n",
       "      <td>Budget</td>\n",
       "    </tr>\n",
       "    <tr>\n",
       "      <th>3</th>\n",
       "      <td>1003</td>\n",
       "      <td>2019-03</td>\n",
       "      <td>2019-03-08</td>\n",
       "      <td>1</td>\n",
       "      <td>4</td>\n",
       "      <td>106</td>\n",
       "      <td>Natural ChipCo      Hony Soy Chckn175g</td>\n",
       "      <td>1</td>\n",
       "      <td>3.0</td>\n",
       "      <td>175</td>\n",
       "      <td>NATURAL</td>\n",
       "      <td>YOUNG FAMILIES</td>\n",
       "      <td>Budget</td>\n",
       "    </tr>\n",
       "    <tr>\n",
       "      <th>4</th>\n",
       "      <td>1004</td>\n",
       "      <td>2018-11</td>\n",
       "      <td>2018-11-02</td>\n",
       "      <td>1</td>\n",
       "      <td>5</td>\n",
       "      <td>96</td>\n",
       "      <td>WW Original Stacked Chips 160g</td>\n",
       "      <td>1</td>\n",
       "      <td>1.9</td>\n",
       "      <td>160</td>\n",
       "      <td>WOOLWORTHS</td>\n",
       "      <td>OLDER SINGLES/COUPLES</td>\n",
       "      <td>Mainstream</td>\n",
       "    </tr>\n",
       "  </tbody>\n",
       "</table>\n",
       "</div>"
      ],
      "text/plain": [
       "   lylty_card_nbr year_month       date  store_nbr  txn_id  prod_nbr  \\\n",
       "0            1000    2018-10 2018-10-17          1       1         5   \n",
       "1            1002    2018-09 2018-09-16          1       2        58   \n",
       "2            1003    2019-03 2019-03-07          1       3        52   \n",
       "3            1003    2019-03 2019-03-08          1       4       106   \n",
       "4            1004    2018-11 2018-11-02          1       5        96   \n",
       "\n",
       "                                prod_name  prod_qty  tot_sales  pack_size  \\\n",
       "0  Natural Chip        Compny SeaSalt175g         2        6.0        175   \n",
       "1   Red Rock Deli Chikn&Garlic Aioli 150g         1        2.7        150   \n",
       "2   Grain Waves Sour    Cream&Chives 210G         1        3.6        210   \n",
       "3  Natural ChipCo      Hony Soy Chckn175g         1        3.0        175   \n",
       "4          WW Original Stacked Chips 160g         1        1.9        160   \n",
       "\n",
       "        brand              lifestage premium_customer  \n",
       "0     NATURAL  YOUNG SINGLES/COUPLES          Premium  \n",
       "1         RRD  YOUNG SINGLES/COUPLES       Mainstream  \n",
       "2     GRNWVES         YOUNG FAMILIES           Budget  \n",
       "3     NATURAL         YOUNG FAMILIES           Budget  \n",
       "4  WOOLWORTHS  OLDER SINGLES/COUPLES       Mainstream  "
      ]
     },
     "execution_count": 80,
     "metadata": {},
     "output_type": "execute_result"
    }
   ],
   "source": [
    "df.head()"
   ]
  },
  {
   "cell_type": "code",
   "execution_count": 81,
   "id": "2c6b0965-6816-4562-bf87-d82f0ae41088",
   "metadata": {},
   "outputs": [],
   "source": [
    "# total sale by month ,Store 77, 86, 88\n",
    "check = df[df['store_nbr'].isin([77, 86, 88])].groupby(['store_nbr', 'year_month'])['tot_sales'].sum()"
   ]
  },
  {
   "cell_type": "code",
   "execution_count": 82,
   "id": "81d58d07-62cd-431e-8195-e17a319467d6",
   "metadata": {},
   "outputs": [
    {
     "data": {
      "image/png": "[encoded data removed]",
      "text/plain": [
       "<Figure size 1080x504 with 1 Axes>"
      ]
     },
     "metadata": {
      "needs_background": "light"
     },
     "output_type": "display_data"
    }
   ],
   "source": [
    "colors = []\n",
    "for store, month in check.index:\n",
    "    if store == 77:\n",
    "        colors.append('b')\n",
    "    elif store == 86:\n",
    "        colors.append('g')\n",
    "    else:\n",
    "        colors.append('r')\n",
    "check.plot(kind = 'bar',color = colors ,figsize = (15, 7))\n",
    "plt.title('total sale by month')\n",
    "plt.xlabel('Year_Month')\n",
    "plt.ylabel('Total Sales')\n",
    "plt.show()"
   ]
  },
  {
   "cell_type": "markdown",
   "id": "2bbd95a1-c20b-4b9b-8990-3a84875ee8cf",
   "metadata": {
    "tags": []
   },
   "source": [
    "### define metrics:\n",
    "\n",
    "- Total sales\n",
    "- Number of customers,\n",
    "- Average transactions per customer\n"
   ]
  },
  {
   "cell_type": "code",
   "execution_count": 83,
   "id": "1efb069e-f6fc-4a26-972e-5b3a5b37d242",
   "metadata": {},
   "outputs": [],
   "source": [
    "m_total_sales = df.groupby(['store_nbr', 'year_month'])['tot_sales'].sum()\n",
    "m_cust = df.groupby(['store_nbr', 'year_month'])['lylty_card_nbr'].nunique()\n",
    "m_transpercust = df.groupby(['store_nbr', 'year_month'])[\"txn_id\"].nunique()/m_cust"
   ]
  },
  {
   "cell_type": "code",
   "execution_count": 84,
   "id": "cdf72e4e-b53d-4481-b128-90eac269b327",
   "metadata": {},
   "outputs": [],
   "source": [
    "store_with_metric = pd.concat([m_total_sales,m_cust,m_transpercust],axis=1)"
   ]
  },
  {
   "cell_type": "code",
   "execution_count": 85,
   "id": "527a8864-1895-4548-8a93-d5432d512e50",
   "metadata": {},
   "outputs": [],
   "source": [
    "store_with_metric.columns = ['m_total_sales', 'm_cust', 'm_transpercust']"
   ]
  },
  {
   "cell_type": "code",
   "execution_count": 86,
   "id": "bd1b19b6-7fa1-4205-be89-cc4b0d2444d1",
   "metadata": {},
   "outputs": [],
   "source": [
    "store_with_metric.reset_index(inplace = True)"
   ]
  },
  {
   "cell_type": "code",
   "execution_count": 14,
   "id": "cd43d43f-2064-4ce2-86f8-1844710e1d3b",
   "metadata": {},
   "outputs": [
    {
     "data": {
      "text/html": [
       "<div>\n",
       "<style scoped>\n",
       "    .dataframe tbody tr th:only-of-type {\n",
       "        vertical-align: middle;\n",
       "    }\n",
       "\n",
       "    .dataframe tbody tr th {\n",
       "        vertical-align: top;\n",
       "    }\n",
       "\n",
       "    .dataframe thead th {\n",
       "        text-align: right;\n",
       "    }\n",
       "</style>\n",
       "<table border=\"1\" class=\"dataframe\">\n",
       "  <thead>\n",
       "    <tr style=\"text-align: right;\">\n",
       "      <th></th>\n",
       "      <th>store_nbr</th>\n",
       "      <th>year_month</th>\n",
       "      <th>m_total_sales</th>\n",
       "      <th>m_cust</th>\n",
       "      <th>m_transpercust</th>\n",
       "    </tr>\n",
       "  </thead>\n",
       "  <tbody>\n",
       "    <tr>\n",
       "      <th>0</th>\n",
       "      <td>1</td>\n",
       "      <td>2018-07</td>\n",
       "      <td>206.9</td>\n",
       "      <td>49</td>\n",
       "      <td>1.061224</td>\n",
       "    </tr>\n",
       "    <tr>\n",
       "      <th>1</th>\n",
       "      <td>1</td>\n",
       "      <td>2018-08</td>\n",
       "      <td>176.1</td>\n",
       "      <td>42</td>\n",
       "      <td>1.023810</td>\n",
       "    </tr>\n",
       "    <tr>\n",
       "      <th>2</th>\n",
       "      <td>1</td>\n",
       "      <td>2018-09</td>\n",
       "      <td>278.8</td>\n",
       "      <td>59</td>\n",
       "      <td>1.050847</td>\n",
       "    </tr>\n",
       "    <tr>\n",
       "      <th>3</th>\n",
       "      <td>1</td>\n",
       "      <td>2018-10</td>\n",
       "      <td>188.1</td>\n",
       "      <td>44</td>\n",
       "      <td>1.022727</td>\n",
       "    </tr>\n",
       "    <tr>\n",
       "      <th>4</th>\n",
       "      <td>1</td>\n",
       "      <td>2018-11</td>\n",
       "      <td>192.6</td>\n",
       "      <td>46</td>\n",
       "      <td>1.021739</td>\n",
       "    </tr>\n",
       "    <tr>\n",
       "      <th>5</th>\n",
       "      <td>1</td>\n",
       "      <td>2018-12</td>\n",
       "      <td>189.6</td>\n",
       "      <td>42</td>\n",
       "      <td>1.119048</td>\n",
       "    </tr>\n",
       "    <tr>\n",
       "      <th>6</th>\n",
       "      <td>1</td>\n",
       "      <td>2019-01</td>\n",
       "      <td>154.8</td>\n",
       "      <td>35</td>\n",
       "      <td>1.028571</td>\n",
       "    </tr>\n",
       "    <tr>\n",
       "      <th>7</th>\n",
       "      <td>1</td>\n",
       "      <td>2019-02</td>\n",
       "      <td>225.4</td>\n",
       "      <td>52</td>\n",
       "      <td>1.057692</td>\n",
       "    </tr>\n",
       "    <tr>\n",
       "      <th>8</th>\n",
       "      <td>1</td>\n",
       "      <td>2019-03</td>\n",
       "      <td>192.9</td>\n",
       "      <td>45</td>\n",
       "      <td>1.088889</td>\n",
       "    </tr>\n",
       "    <tr>\n",
       "      <th>9</th>\n",
       "      <td>1</td>\n",
       "      <td>2019-04</td>\n",
       "      <td>192.9</td>\n",
       "      <td>42</td>\n",
       "      <td>1.023810</td>\n",
       "    </tr>\n",
       "    <tr>\n",
       "      <th>10</th>\n",
       "      <td>1</td>\n",
       "      <td>2019-05</td>\n",
       "      <td>221.4</td>\n",
       "      <td>46</td>\n",
       "      <td>1.108696</td>\n",
       "    </tr>\n",
       "    <tr>\n",
       "      <th>11</th>\n",
       "      <td>1</td>\n",
       "      <td>2019-06</td>\n",
       "      <td>174.1</td>\n",
       "      <td>42</td>\n",
       "      <td>1.000000</td>\n",
       "    </tr>\n",
       "  </tbody>\n",
       "</table>\n",
       "</div>"
      ],
      "text/plain": [
       "    store_nbr year_month  m_total_sales  m_cust  m_transpercust\n",
       "0           1    2018-07          206.9      49        1.061224\n",
       "1           1    2018-08          176.1      42        1.023810\n",
       "2           1    2018-09          278.8      59        1.050847\n",
       "3           1    2018-10          188.1      44        1.022727\n",
       "4           1    2018-11          192.6      46        1.021739\n",
       "5           1    2018-12          189.6      42        1.119048\n",
       "6           1    2019-01          154.8      35        1.028571\n",
       "7           1    2019-02          225.4      52        1.057692\n",
       "8           1    2019-03          192.9      45        1.088889\n",
       "9           1    2019-04          192.9      42        1.023810\n",
       "10          1    2019-05          221.4      46        1.108696\n",
       "11          1    2019-06          174.1      42        1.000000"
      ]
     },
     "execution_count": 14,
     "metadata": {},
     "output_type": "execute_result"
    }
   ],
   "source": [
    "store_with_metric.head(12)"
   ]
  },
  {
   "cell_type": "markdown",
   "id": "89885e61-eac0-49ae-bfc5-4159debcf2df",
   "metadata": {},
   "source": [
    "\"pre_df\" is the dataset which contains samples only before the trial period.\n",
    "\n",
    "\"trial_df\" is the datset which contains samples of trial period."
   ]
  },
  {
   "cell_type": "code",
   "execution_count": 15,
   "id": "6686300a-58ac-4fe3-be76-9ce59c8a596d",
   "metadata": {},
   "outputs": [],
   "source": [
    "pre_df = store_with_metric[store_with_metric['year_month'] <= \"2019-01\"]\n",
    "trial_df = store_with_metric[(store_with_metric['year_month'] >= \"2019-02\") & (store_with_metric['year_month'] <= \"2019-04\")]"
   ]
  },
  {
   "cell_type": "code",
   "execution_count": 16,
   "id": "c92dd5b5-4ddc-4654-87e1-47d4c7ee00bd",
   "metadata": {},
   "outputs": [],
   "source": [
    "#pre df 7 month\n",
    "pre_df.set_index(['store_nbr','year_month'],inplace =True)"
   ]
  },
  {
   "cell_type": "code",
   "execution_count": 19,
   "id": "8bcaeefd-1d91-49f2-8de5-8da5ec27d018",
   "metadata": {},
   "outputs": [
    {
     "data": {
      "text/html": [
       "<div>\n",
       "<style scoped>\n",
       "    .dataframe tbody tr th:only-of-type {\n",
       "        vertical-align: middle;\n",
       "    }\n",
       "\n",
       "    .dataframe tbody tr th {\n",
       "        vertical-align: top;\n",
       "    }\n",
       "\n",
       "    .dataframe thead th {\n",
       "        text-align: right;\n",
       "    }\n",
       "</style>\n",
       "<table border=\"1\" class=\"dataframe\">\n",
       "  <thead>\n",
       "    <tr style=\"text-align: right;\">\n",
       "      <th></th>\n",
       "      <th></th>\n",
       "      <th>m_total_sales</th>\n",
       "      <th>m_cust</th>\n",
       "      <th>m_transpercust</th>\n",
       "    </tr>\n",
       "    <tr>\n",
       "      <th>store_nbr</th>\n",
       "      <th>year_month</th>\n",
       "      <th></th>\n",
       "      <th></th>\n",
       "      <th></th>\n",
       "    </tr>\n",
       "  </thead>\n",
       "  <tbody>\n",
       "    <tr>\n",
       "      <th rowspan=\"3\" valign=\"top\">1</th>\n",
       "      <th>2019-02</th>\n",
       "      <td>225.4</td>\n",
       "      <td>52</td>\n",
       "      <td>1.057692</td>\n",
       "    </tr>\n",
       "    <tr>\n",
       "      <th>2019-03</th>\n",
       "      <td>192.9</td>\n",
       "      <td>45</td>\n",
       "      <td>1.088889</td>\n",
       "    </tr>\n",
       "    <tr>\n",
       "      <th>2019-04</th>\n",
       "      <td>192.9</td>\n",
       "      <td>42</td>\n",
       "      <td>1.023810</td>\n",
       "    </tr>\n",
       "  </tbody>\n",
       "</table>\n",
       "</div>"
      ],
      "text/plain": [
       "                      m_total_sales  m_cust  m_transpercust\n",
       "store_nbr year_month                                       \n",
       "1         2019-02             225.4      52        1.057692\n",
       "          2019-03             192.9      45        1.088889\n",
       "          2019-04             192.9      42        1.023810"
      ]
     },
     "execution_count": 19,
     "metadata": {},
     "output_type": "execute_result"
    }
   ],
   "source": [
    "# trial df 3 month\n",
    "trial_df.set_index(['store_nbr','year_month'],inplace =True)"
   ]
  },
  {
   "cell_type": "code",
   "execution_count": 18,
   "id": "2d3c933f-5f45-471b-aab1-a6a9849d627b",
   "metadata": {},
   "outputs": [
    {
     "data": {
      "text/html": [
       "<div>\n",
       "<style scoped>\n",
       "    .dataframe tbody tr th:only-of-type {\n",
       "        vertical-align: middle;\n",
       "    }\n",
       "\n",
       "    .dataframe tbody tr th {\n",
       "        vertical-align: top;\n",
       "    }\n",
       "\n",
       "    .dataframe thead th {\n",
       "        text-align: right;\n",
       "    }\n",
       "</style>\n",
       "<table border=\"1\" class=\"dataframe\">\n",
       "  <thead>\n",
       "    <tr style=\"text-align: right;\">\n",
       "      <th></th>\n",
       "      <th></th>\n",
       "      <th>m_total_sales</th>\n",
       "      <th>m_cust</th>\n",
       "      <th>m_transpercust</th>\n",
       "    </tr>\n",
       "    <tr>\n",
       "      <th>store_nbr</th>\n",
       "      <th>year_month</th>\n",
       "      <th></th>\n",
       "      <th></th>\n",
       "      <th></th>\n",
       "    </tr>\n",
       "  </thead>\n",
       "  <tbody>\n",
       "    <tr>\n",
       "      <th rowspan=\"7\" valign=\"top\">1</th>\n",
       "      <th>2018-07</th>\n",
       "      <td>206.9</td>\n",
       "      <td>49</td>\n",
       "      <td>1.061224</td>\n",
       "    </tr>\n",
       "    <tr>\n",
       "      <th>2018-08</th>\n",
       "      <td>176.1</td>\n",
       "      <td>42</td>\n",
       "      <td>1.023810</td>\n",
       "    </tr>\n",
       "    <tr>\n",
       "      <th>2018-09</th>\n",
       "      <td>278.8</td>\n",
       "      <td>59</td>\n",
       "      <td>1.050847</td>\n",
       "    </tr>\n",
       "    <tr>\n",
       "      <th>2018-10</th>\n",
       "      <td>188.1</td>\n",
       "      <td>44</td>\n",
       "      <td>1.022727</td>\n",
       "    </tr>\n",
       "    <tr>\n",
       "      <th>2018-11</th>\n",
       "      <td>192.6</td>\n",
       "      <td>46</td>\n",
       "      <td>1.021739</td>\n",
       "    </tr>\n",
       "    <tr>\n",
       "      <th>2018-12</th>\n",
       "      <td>189.6</td>\n",
       "      <td>42</td>\n",
       "      <td>1.119048</td>\n",
       "    </tr>\n",
       "    <tr>\n",
       "      <th>2019-01</th>\n",
       "      <td>154.8</td>\n",
       "      <td>35</td>\n",
       "      <td>1.028571</td>\n",
       "    </tr>\n",
       "    <tr>\n",
       "      <th>2</th>\n",
       "      <th>2018-07</th>\n",
       "      <td>150.8</td>\n",
       "      <td>39</td>\n",
       "      <td>1.051282</td>\n",
       "    </tr>\n",
       "  </tbody>\n",
       "</table>\n",
       "</div>"
      ],
      "text/plain": [
       "                      m_total_sales  m_cust  m_transpercust\n",
       "store_nbr year_month                                       \n",
       "1         2018-07             206.9      49        1.061224\n",
       "          2018-08             176.1      42        1.023810\n",
       "          2018-09             278.8      59        1.050847\n",
       "          2018-10             188.1      44        1.022727\n",
       "          2018-11             192.6      46        1.021739\n",
       "          2018-12             189.6      42        1.119048\n",
       "          2019-01             154.8      35        1.028571\n",
       "2         2018-07             150.8      39        1.051282"
      ]
     },
     "execution_count": 18,
     "metadata": {},
     "output_type": "execute_result"
    }
   ],
   "source": [
    "pre_df.head(8)"
   ]
  },
  {
   "cell_type": "code",
   "execution_count": 20,
   "id": "c1f9116e-2c99-471a-9626-8e33d7851ec0",
   "metadata": {},
   "outputs": [],
   "source": [
    "trial_df.reset_index(inplace = True)\n",
    "pre_df.reset_index(inplace = True)"
   ]
  },
  {
   "cell_type": "markdown",
   "id": "1ff41d38-8620-4b6b-b68d-8cc5e4ec83c0",
   "metadata": {},
   "source": [
    "---------"
   ]
  },
  {
   "cell_type": "code",
   "execution_count": 22,
   "id": "1890fd4e-9142-41d3-8bd6-65678e4d46de",
   "metadata": {},
   "outputs": [],
   "source": [
    "def calculateCorrelation(df, metricCol, storeComparison):\n",
    "       \n",
    "    control_all = df.loc[~df[\"store_nbr\"].isin([77,86,88])]\n",
    "    trial = df.loc[df[\"store_nbr\"] == storeComparison][metricCol].reset_index()\n",
    "    calcCorrTable = pd.DataFrame(columns = [\"Control_Store\", \"Trial_Store\", \"Corr\"])\n",
    "    \n",
    "    for i in control_all[\"store_nbr\"].unique():\n",
    "        control = control_all[control_all[\"store_nbr\"]==i][metricCol].reset_index()              \n",
    "        correlation = control.corrwith(trial,axis=0)[1]\n",
    "        calcCorrTable_i = pd.DataFrame({\"Control_Store\":i,\"Trial_Store\":storeComparison,\"Corr\":[correlation]}) \n",
    "        calcCorrTable = pd.concat([calcCorrTable, calcCorrTable_i])\n",
    "     \n",
    "    return calcCorrTable"
   ]
  },
  {
   "cell_type": "code",
   "execution_count": 23,
   "id": "e899ed73-9be6-41aa-921b-03231894de70",
   "metadata": {},
   "outputs": [],
   "source": [
    "def calculateMagnitudeDistance(df, metricCol, storeComparison):\n",
    "    \n",
    "    control_all = df.loc[~df[\"store_nbr\"].isin([77,86,88])]\n",
    "    trial = df.loc[df[\"store_nbr\"] == storeComparison].reset_index()[metricCol]\n",
    "    calcDistTable = pd.DataFrame(columns=[\"Control_Store\", \"Trial_Store\", \"Magnitude\"])\n",
    "    \n",
    "    for i in control_all[\"store_nbr\"].unique():\n",
    "        control = control_all[control_all[\"store_nbr\"]==i].reset_index()[metricCol]\n",
    "        diff = abs(trial - control)\n",
    "        # Standardise the magnitude distance so that the measure ranges from 0 to 1\n",
    "        s_diff = np.mean(1-((diff-min(diff))/(max(diff)-min(diff))))\n",
    "        calcDistTable_i = pd.DataFrame({\"Control_Store\":i,\"Trial_Store\":[storeComparison],\"Magnitude\": s_diff})\n",
    "        calcDistTable = pd.concat([calcDistTable, calcDistTable_i])\n",
    "    return calcDistTable"
   ]
  },
  {
   "cell_type": "markdown",
   "id": "9b7ac641-6ec8-4b1c-a876-c62550990618",
   "metadata": {},
   "source": [
    "### Cal corr and magnitude in Pre-Period"
   ]
  },
  {
   "cell_type": "code",
   "execution_count": 24,
   "id": "43b1791b-d422-4cb6-93d7-9944b822464f",
   "metadata": {},
   "outputs": [],
   "source": [
    "# total sales - corr\n",
    "corr_nSales_77 = calculateCorrelation(pre_df.reset_index(),\"m_total_sales\",77)\n",
    "\n",
    "# total sales - magnitude distance\n",
    "magnitude_nSales_77 = calculateMagnitudeDistance(pre_df.reset_index(),\"m_total_sales\",77) \n",
    "\n",
    "# number of customers - corr\n",
    "corr_nCustomers_77 = calculateCorrelation(pre_df.reset_index(),\"m_cust\",77)\n",
    "\n",
    "# number of customers - magnitude distance\n",
    "magnitude_nCustomers_77 = calculateMagnitudeDistance(pre_df.reset_index(),\"m_cust\",77)"
   ]
  },
  {
   "cell_type": "markdown",
   "id": "acedb48a-884c-4853-b21a-c921e50582e7",
   "metadata": {},
   "source": [
    "#### Cal Score totSales"
   ]
  },
  {
   "cell_type": "code",
   "execution_count": 25,
   "id": "44ae60fa-0dfb-4c22-ba28-a13fb0c33ae7",
   "metadata": {},
   "outputs": [],
   "source": [
    "nsales_77_cal  = pd.concat([corr_nSales_77,magnitude_nSales_77['Magnitude']],axis=1)"
   ]
  },
  {
   "cell_type": "code",
   "execution_count": 26,
   "id": "d159a94c-a7aa-4651-a466-80f8a4380139",
   "metadata": {},
   "outputs": [
    {
     "data": {
      "text/html": [
       "<div>\n",
       "<style scoped>\n",
       "    .dataframe tbody tr th:only-of-type {\n",
       "        vertical-align: middle;\n",
       "    }\n",
       "\n",
       "    .dataframe tbody tr th {\n",
       "        vertical-align: top;\n",
       "    }\n",
       "\n",
       "    .dataframe thead th {\n",
       "        text-align: right;\n",
       "    }\n",
       "</style>\n",
       "<table border=\"1\" class=\"dataframe\">\n",
       "  <thead>\n",
       "    <tr style=\"text-align: right;\">\n",
       "      <th></th>\n",
       "      <th>Control_Store</th>\n",
       "      <th>Trial_Store</th>\n",
       "      <th>Corr</th>\n",
       "      <th>Magnitude</th>\n",
       "      <th>score_nSales</th>\n",
       "    </tr>\n",
       "  </thead>\n",
       "  <tbody>\n",
       "    <tr>\n",
       "      <th>0</th>\n",
       "      <td>1</td>\n",
       "      <td>77</td>\n",
       "      <td>0.075218</td>\n",
       "      <td>0.408163</td>\n",
       "      <td>0.241691</td>\n",
       "    </tr>\n",
       "    <tr>\n",
       "      <th>0</th>\n",
       "      <td>2</td>\n",
       "      <td>77</td>\n",
       "      <td>-0.263079</td>\n",
       "      <td>0.590119</td>\n",
       "      <td>0.163520</td>\n",
       "    </tr>\n",
       "    <tr>\n",
       "      <th>0</th>\n",
       "      <td>3</td>\n",
       "      <td>77</td>\n",
       "      <td>0.806644</td>\n",
       "      <td>0.522914</td>\n",
       "      <td>0.664779</td>\n",
       "    </tr>\n",
       "    <tr>\n",
       "      <th>0</th>\n",
       "      <td>4</td>\n",
       "      <td>77</td>\n",
       "      <td>-0.263300</td>\n",
       "      <td>0.644934</td>\n",
       "      <td>0.190817</td>\n",
       "    </tr>\n",
       "    <tr>\n",
       "      <th>0</th>\n",
       "      <td>5</td>\n",
       "      <td>77</td>\n",
       "      <td>-0.110652</td>\n",
       "      <td>0.516320</td>\n",
       "      <td>0.202834</td>\n",
       "    </tr>\n",
       "  </tbody>\n",
       "</table>\n",
       "</div>"
      ],
      "text/plain": [
       "  Control_Store Trial_Store      Corr  Magnitude  score_nSales\n",
       "0             1          77  0.075218   0.408163      0.241691\n",
       "0             2          77 -0.263079   0.590119      0.163520\n",
       "0             3          77  0.806644   0.522914      0.664779\n",
       "0             4          77 -0.263300   0.644934      0.190817\n",
       "0             5          77 -0.110652   0.516320      0.202834"
      ]
     },
     "execution_count": 26,
     "metadata": {},
     "output_type": "execute_result"
    }
   ],
   "source": [
    "nsales_77_cal[\"score_nSales\"] = 0.5 * nsales_77_cal[\"Corr\"] + (1-0.5) * nsales_77_cal[\"Magnitude\"]\n",
    "nsales_77_cal.head()"
   ]
  },
  {
   "cell_type": "code",
   "execution_count": 27,
   "id": "d413a924-458a-4b3f-aade-f075690e4afd",
   "metadata": {},
   "outputs": [],
   "source": [
    "ncust_77_cal  = pd.concat([corr_nCustomers_77,magnitude_nCustomers_77['Magnitude']],axis=1)"
   ]
  },
  {
   "cell_type": "code",
   "execution_count": 28,
   "id": "635eb166-eb5a-4c0f-b30a-58ab7e64cfe1",
   "metadata": {},
   "outputs": [
    {
     "data": {
      "text/html": [
       "<div>\n",
       "<style scoped>\n",
       "    .dataframe tbody tr th:only-of-type {\n",
       "        vertical-align: middle;\n",
       "    }\n",
       "\n",
       "    .dataframe tbody tr th {\n",
       "        vertical-align: top;\n",
       "    }\n",
       "\n",
       "    .dataframe thead th {\n",
       "        text-align: right;\n",
       "    }\n",
       "</style>\n",
       "<table border=\"1\" class=\"dataframe\">\n",
       "  <thead>\n",
       "    <tr style=\"text-align: right;\">\n",
       "      <th></th>\n",
       "      <th>Control_Store</th>\n",
       "      <th>Trial_Store</th>\n",
       "      <th>Corr</th>\n",
       "      <th>Magnitude</th>\n",
       "      <th>score_nCust</th>\n",
       "    </tr>\n",
       "  </thead>\n",
       "  <tbody>\n",
       "    <tr>\n",
       "      <th>0</th>\n",
       "      <td>1</td>\n",
       "      <td>77</td>\n",
       "      <td>0.322168</td>\n",
       "      <td>0.663866</td>\n",
       "      <td>0.493017</td>\n",
       "    </tr>\n",
       "    <tr>\n",
       "      <th>0</th>\n",
       "      <td>2</td>\n",
       "      <td>77</td>\n",
       "      <td>-0.572051</td>\n",
       "      <td>0.471429</td>\n",
       "      <td>-0.050311</td>\n",
       "    </tr>\n",
       "    <tr>\n",
       "      <th>0</th>\n",
       "      <td>3</td>\n",
       "      <td>77</td>\n",
       "      <td>0.834207</td>\n",
       "      <td>0.489796</td>\n",
       "      <td>0.662002</td>\n",
       "    </tr>\n",
       "    <tr>\n",
       "      <th>0</th>\n",
       "      <td>4</td>\n",
       "      <td>77</td>\n",
       "      <td>-0.295639</td>\n",
       "      <td>0.498258</td>\n",
       "      <td>0.101310</td>\n",
       "    </tr>\n",
       "    <tr>\n",
       "      <th>0</th>\n",
       "      <td>5</td>\n",
       "      <td>77</td>\n",
       "      <td>0.370659</td>\n",
       "      <td>0.512605</td>\n",
       "      <td>0.441632</td>\n",
       "    </tr>\n",
       "  </tbody>\n",
       "</table>\n",
       "</div>"
      ],
      "text/plain": [
       "  Control_Store Trial_Store      Corr  Magnitude  score_nCust\n",
       "0             1          77  0.322168   0.663866     0.493017\n",
       "0             2          77 -0.572051   0.471429    -0.050311\n",
       "0             3          77  0.834207   0.489796     0.662002\n",
       "0             4          77 -0.295639   0.498258     0.101310\n",
       "0             5          77  0.370659   0.512605     0.441632"
      ]
     },
     "execution_count": 28,
     "metadata": {},
     "output_type": "execute_result"
    }
   ],
   "source": [
    "ncust_77_cal[\"score_nCust\"] = 0.5 * ncust_77_cal[\"Corr\"] + (1-0.5) * ncust_77_cal[\"Magnitude\"]\n",
    "ncust_77_cal.head()"
   ]
  },
  {
   "cell_type": "markdown",
   "id": "085dbe8d-f9d9-4f99-8bec-add36e3c0505",
   "metadata": {},
   "source": [
    "#### Calculate final score with avg"
   ]
  },
  {
   "cell_type": "code",
   "execution_count": 59,
   "id": "91d08385-b1e0-4629-8753-4a3d53343d04",
   "metadata": {},
   "outputs": [],
   "source": [
    "#combine salesscore and cust score\n",
    "finalControlScore_77 = pd.concat([nsales_77_cal[[\"Control_Store\", \"Trial_Store\", \"score_nSales\"]],ncust_77_cal[\"score_nCust\"]],axis=1)\n",
    "\n",
    "# Calculate a final score \n",
    "corr_weight_c = 0.5\n",
    "finalControlScore_77[\"finalControlScore\"] = corr_weight_c * finalControlScore_77[\"score_nSales\"] + (1-corr_weight_c) * finalControlScore_77[\"score_nCust\"]"
   ]
  },
  {
   "cell_type": "code",
   "execution_count": 60,
   "id": "6024569a-f7ef-43ed-97e0-5ee00cd1ce67",
   "metadata": {},
   "outputs": [
    {
     "data": {
      "text/html": [
       "<div>\n",
       "<style scoped>\n",
       "    .dataframe tbody tr th:only-of-type {\n",
       "        vertical-align: middle;\n",
       "    }\n",
       "\n",
       "    .dataframe tbody tr th {\n",
       "        vertical-align: top;\n",
       "    }\n",
       "\n",
       "    .dataframe thead th {\n",
       "        text-align: right;\n",
       "    }\n",
       "</style>\n",
       "<table border=\"1\" class=\"dataframe\">\n",
       "  <thead>\n",
       "    <tr style=\"text-align: right;\">\n",
       "      <th></th>\n",
       "      <th>Control_Store</th>\n",
       "      <th>Trial_Store</th>\n",
       "      <th>score_nSales</th>\n",
       "      <th>score_nCust</th>\n",
       "      <th>finalControlScore</th>\n",
       "    </tr>\n",
       "  </thead>\n",
       "  <tbody>\n",
       "    <tr>\n",
       "      <th>0</th>\n",
       "      <td>233</td>\n",
       "      <td>77</td>\n",
       "      <td>0.697290</td>\n",
       "      <td>0.816607</td>\n",
       "      <td>0.756949</td>\n",
       "    </tr>\n",
       "    <tr>\n",
       "      <th>0</th>\n",
       "      <td>71</td>\n",
       "      <td>77</td>\n",
       "      <td>0.789497</td>\n",
       "      <td>0.663123</td>\n",
       "      <td>0.726310</td>\n",
       "    </tr>\n",
       "    <tr>\n",
       "      <th>0</th>\n",
       "      <td>84</td>\n",
       "      <td>77</td>\n",
       "      <td>0.656972</td>\n",
       "      <td>0.715000</td>\n",
       "      <td>0.685986</td>\n",
       "    </tr>\n",
       "    <tr>\n",
       "      <th>0</th>\n",
       "      <td>119</td>\n",
       "      <td>77</td>\n",
       "      <td>0.636046</td>\n",
       "      <td>0.729729</td>\n",
       "      <td>0.682887</td>\n",
       "    </tr>\n",
       "    <tr>\n",
       "      <th>0</th>\n",
       "      <td>115</td>\n",
       "      <td>77</td>\n",
       "      <td>0.708347</td>\n",
       "      <td>0.645155</td>\n",
       "      <td>0.676751</td>\n",
       "    </tr>\n",
       "  </tbody>\n",
       "</table>\n",
       "</div>"
      ],
      "text/plain": [
       "  Control_Store Trial_Store  score_nSales  score_nCust  finalControlScore\n",
       "0           233          77      0.697290     0.816607           0.756949\n",
       "0            71          77      0.789497     0.663123           0.726310\n",
       "0            84          77      0.656972     0.715000           0.685986\n",
       "0           119          77      0.636046     0.729729           0.682887\n",
       "0           115          77      0.708347     0.645155           0.676751"
      ]
     },
     "execution_count": 60,
     "metadata": {},
     "output_type": "execute_result"
    }
   ],
   "source": [
    "finalControlScore_77.sort_values(by=\"finalControlScore\",ascending=False).head()"
   ]
  },
  {
   "cell_type": "markdown",
   "id": "d26da53f-ce05-441b-919e-0be5a4a3b76f",
   "metadata": {},
   "source": [
    "#### Store 233 high finalControlScore ,then we select them to control store for compare\n",
    "\n"
   ]
  },
  {
   "cell_type": "markdown",
   "id": "98ad7986-9403-4b34-888f-6fcb39b3e23e",
   "metadata": {},
   "source": [
    "## Plot compare store 77 and 119 "
   ]
  },
  {
   "cell_type": "markdown",
   "id": "e2d309a9-4791-4753-9617-298d84f91b3a",
   "metadata": {},
   "source": [
    "#### monthly_sale compare"
   ]
  },
  {
   "cell_type": "code",
   "execution_count": 35,
   "id": "c891a75b-657e-4094-b70e-7b2e1f1a09d4",
   "metadata": {},
   "outputs": [],
   "source": [
    "pre_df.set_index(['store_nbr','year_month'],inplace = True)"
   ]
  },
  {
   "cell_type": "code",
   "execution_count": 37,
   "id": "836ae923-3026-4589-8805-217f4e7e46c6",
   "metadata": {},
   "outputs": [
    {
     "data": {
      "text/plain": [
       "Index(['m_total_sales', 'm_cust', 'm_transpercust'], dtype='object')"
      ]
     },
     "execution_count": 37,
     "metadata": {},
     "output_type": "execute_result"
    }
   ],
   "source": [
    "pre_df.columns"
   ]
  },
  {
   "cell_type": "code",
   "execution_count": 61,
   "id": "aea6e31f-5c61-47e1-87b9-f7adad83714d",
   "metadata": {},
   "outputs": [
    {
     "data": {
      "text/plain": [
       "Text(0.5, 1.0, 'Distribution of monthly_sales store 77, 233')"
      ]
     },
     "execution_count": 61,
     "metadata": {},
     "output_type": "execute_result"
    },
    {
     "data": {
      "image/png": "[encoded data removed]",
      "text/plain": [
       "<Figure size 864x576 with 1 Axes>"
      ]
     },
     "metadata": {
      "needs_background": "light"
     },
     "output_type": "display_data"
    }
   ],
   "source": [
    "plt.figure(figsize = (12,8))\n",
    "sns.distplot(pre_df.loc[77]['m_total_sales'], color = 'r')\n",
    "sns.distplot(pre_df.loc[233]['m_total_sales'], color = 'g')\n",
    "\n",
    "#add mean in vline\n",
    "plt.axvline(pre_df.loc[77]['m_total_sales'].mean(),color='r')\n",
    "plt.axvline(pre_df.loc[233]['m_total_sales'].mean(),color='g')\n",
    "plt.legend(labels = ['77', '233'])\n",
    "plt.title('Distribution of monthly_sales store 77, 233')"
   ]
  },
  {
   "cell_type": "code",
   "execution_count": 62,
   "id": "7e13eb73-b187-44dd-8d85-d24587e865aa",
   "metadata": {},
   "outputs": [
    {
     "data": {
      "text/plain": [
       "<matplotlib.legend.Legend at 0x1bbe983af10>"
      ]
     },
     "execution_count": 62,
     "metadata": {},
     "output_type": "execute_result"
    },
    {
     "data": {
      "image/png": "[encoded data removed]",
      "text/plain": [
       "<Figure size 864x576 with 1 Axes>"
      ]
     },
     "metadata": {
      "needs_background": "light"
     },
     "output_type": "display_data"
    }
   ],
   "source": [
    "plt.figure(figsize = (12,8))\n",
    "pre_df.loc[77]['m_total_sales'].plot()\n",
    "pre_df.loc[233]['m_total_sales'].plot()\n",
    "plt.legend(labels = ['77', '233'])"
   ]
  },
  {
   "cell_type": "markdown",
   "id": "cb95546a-500d-4b58-9a70-c3bc1f05d1f8",
   "metadata": {},
   "source": [
    "#### monthly_custs compare"
   ]
  },
  {
   "cell_type": "code",
   "execution_count": 63,
   "id": "fac6bbb2-b22f-427e-b504-087c22bea4ed",
   "metadata": {},
   "outputs": [
    {
     "data": {
      "text/plain": [
       "Text(0.5, 1.0, 'Distribution of monthly_customers store 77, 233')"
      ]
     },
     "execution_count": 63,
     "metadata": {},
     "output_type": "execute_result"
    },
    {
     "data": {
      "image/png": "[encoded data removed]",
      "text/plain": [
       "<Figure size 864x576 with 1 Axes>"
      ]
     },
     "metadata": {
      "needs_background": "light"
     },
     "output_type": "display_data"
    }
   ],
   "source": [
    "plt.figure(figsize = (12,8))\n",
    "sns.distplot(pre_df.loc[77]['m_cust'], color = 'r')\n",
    "sns.distplot(pre_df.loc[233]['m_cust'], color = 'g')\n",
    "\n",
    "#add mean in vline\n",
    "plt.axvline(pre_df.loc[77]['m_cust'].mean(),color='r')\n",
    "plt.axvline(pre_df.loc[233]['m_cust'].mean(),color='g')\n",
    "plt.legend(labels = ['77', '233'])\n",
    "plt.title('Distribution of monthly_customers store 77, 233')"
   ]
  },
  {
   "cell_type": "code",
   "execution_count": 64,
   "id": "ac3fb5f9-c40d-46e0-802d-f4d52bcb48be",
   "metadata": {},
   "outputs": [
    {
     "data": {
      "text/plain": [
       "<matplotlib.legend.Legend at 0x1bbeabe2490>"
      ]
     },
     "execution_count": 64,
     "metadata": {},
     "output_type": "execute_result"
    },
    {
     "data": {
      "image/png": "[encoded data removed]",
      "text/plain": [
       "<Figure size 864x576 with 1 Axes>"
      ]
     },
     "metadata": {
      "needs_background": "light"
     },
     "output_type": "display_data"
    }
   ],
   "source": [
    "plt.figure(figsize = (12,8))\n",
    "pre_df.loc[77]['m_cust'].plot()\n",
    "pre_df.loc[233]['m_cust'].plot()\n",
    "plt.legend(labels = ['77', '233'])"
   ]
  },
  {
   "cell_type": "markdown",
   "id": "42ef1c84-229d-4fcc-a02d-cf7c2df01125",
   "metadata": {},
   "source": [
    "-------"
   ]
  },
  {
   "cell_type": "code",
   "execution_count": 43,
   "id": "b0c0d500-e80e-4acf-886b-b516db0055ee",
   "metadata": {},
   "outputs": [],
   "source": [
    "import pingouin as pg"
   ]
  },
  {
   "cell_type": "code",
   "execution_count": 47,
   "id": "1e6456cb-560b-4ee7-adc3-b30ab53eda17",
   "metadata": {},
   "outputs": [
    {
     "data": {
      "text/html": [
       "<div>\n",
       "<style scoped>\n",
       "    .dataframe tbody tr th:only-of-type {\n",
       "        vertical-align: middle;\n",
       "    }\n",
       "\n",
       "    .dataframe tbody tr th {\n",
       "        vertical-align: top;\n",
       "    }\n",
       "\n",
       "    .dataframe thead th {\n",
       "        text-align: right;\n",
       "    }\n",
       "</style>\n",
       "<table border=\"1\" class=\"dataframe\">\n",
       "  <thead>\n",
       "    <tr style=\"text-align: right;\">\n",
       "      <th></th>\n",
       "      <th>T</th>\n",
       "      <th>dof</th>\n",
       "      <th>alternative</th>\n",
       "      <th>p-val</th>\n",
       "      <th>CI95%</th>\n",
       "      <th>cohen-d</th>\n",
       "      <th>BF10</th>\n",
       "      <th>power</th>\n",
       "    </tr>\n",
       "  </thead>\n",
       "  <tbody>\n",
       "    <tr>\n",
       "      <th>T-test</th>\n",
       "      <td>0.250863</td>\n",
       "      <td>12</td>\n",
       "      <td>two-sided</td>\n",
       "      <td>0.806164</td>\n",
       "      <td>[-43.04, 54.24]</td>\n",
       "      <td>0.134092</td>\n",
       "      <td>0.455</td>\n",
       "      <td>0.056159</td>\n",
       "    </tr>\n",
       "  </tbody>\n",
       "</table>\n",
       "</div>"
      ],
      "text/plain": [
       "               T  dof alternative     p-val            CI95%   cohen-d   BF10  \\\n",
       "T-test  0.250863   12   two-sided  0.806164  [-43.04, 54.24]  0.134092  0.455   \n",
       "\n",
       "           power  \n",
       "T-test  0.056159  "
      ]
     },
     "execution_count": 47,
     "metadata": {},
     "output_type": "execute_result"
    }
   ],
   "source": [
    "# t-test monthly_sale (pre)\n",
    "pg.ttest(pre_df.loc[77]['m_total_sales'],pre_df.loc[233]['m_total_sales'])"
   ]
  },
  {
   "cell_type": "code",
   "execution_count": 46,
   "id": "65eb64ff-dc01-4042-b1b4-fe2c66fc5399",
   "metadata": {},
   "outputs": [
    {
     "data": {
      "text/html": [
       "<div>\n",
       "<style scoped>\n",
       "    .dataframe tbody tr th:only-of-type {\n",
       "        vertical-align: middle;\n",
       "    }\n",
       "\n",
       "    .dataframe tbody tr th {\n",
       "        vertical-align: top;\n",
       "    }\n",
       "\n",
       "    .dataframe thead th {\n",
       "        text-align: right;\n",
       "    }\n",
       "</style>\n",
       "<table border=\"1\" class=\"dataframe\">\n",
       "  <thead>\n",
       "    <tr style=\"text-align: right;\">\n",
       "      <th></th>\n",
       "      <th>T</th>\n",
       "      <th>dof</th>\n",
       "      <th>alternative</th>\n",
       "      <th>p-val</th>\n",
       "      <th>CI95%</th>\n",
       "      <th>cohen-d</th>\n",
       "      <th>BF10</th>\n",
       "      <th>power</th>\n",
       "    </tr>\n",
       "  </thead>\n",
       "  <tbody>\n",
       "    <tr>\n",
       "      <th>T-test</th>\n",
       "      <td>0.044382</td>\n",
       "      <td>12</td>\n",
       "      <td>two-sided</td>\n",
       "      <td>0.96533</td>\n",
       "      <td>[-6.87, 7.16]</td>\n",
       "      <td>0.023723</td>\n",
       "      <td>0.446</td>\n",
       "      <td>0.050192</td>\n",
       "    </tr>\n",
       "  </tbody>\n",
       "</table>\n",
       "</div>"
      ],
      "text/plain": [
       "               T  dof alternative    p-val          CI95%   cohen-d   BF10  \\\n",
       "T-test  0.044382   12   two-sided  0.96533  [-6.87, 7.16]  0.023723  0.446   \n",
       "\n",
       "           power  \n",
       "T-test  0.050192  "
      ]
     },
     "execution_count": 46,
     "metadata": {},
     "output_type": "execute_result"
    }
   ],
   "source": [
    "# t-test monthly_custs (pre)\n",
    "pg.ttest(pre_df.loc[77]['m_cust'],pre_df.loc[233]['m_cust'])"
   ]
  },
  {
   "cell_type": "markdown",
   "id": "92ea954e-47ff-4549-8d59-29e543a5e697",
   "metadata": {},
   "source": [
    "that both are similar (pvalues are high close to 1)."
   ]
  },
  {
   "cell_type": "markdown",
   "id": "a23d2c89-a38b-48ef-98a7-95e0d3ca596a",
   "metadata": {},
   "source": [
    "----------------"
   ]
  },
  {
   "cell_type": "markdown",
   "id": "1569ed99-aa58-4353-8661-0163cf1ec198",
   "metadata": {},
   "source": [
    "### test trial period\n"
   ]
  },
  {
   "cell_type": "code",
   "execution_count": 49,
   "id": "8fe92c04-af94-4abb-ba96-d333eb76d14b",
   "metadata": {},
   "outputs": [],
   "source": [
    "trial_df.set_index(['store_nbr','year_month'], inplace = True)"
   ]
  },
  {
   "cell_type": "code",
   "execution_count": 50,
   "id": "15856390-3e47-4868-9d09-550f938bc105",
   "metadata": {},
   "outputs": [
    {
     "data": {
      "text/html": [
       "<div>\n",
       "<style scoped>\n",
       "    .dataframe tbody tr th:only-of-type {\n",
       "        vertical-align: middle;\n",
       "    }\n",
       "\n",
       "    .dataframe tbody tr th {\n",
       "        vertical-align: top;\n",
       "    }\n",
       "\n",
       "    .dataframe thead th {\n",
       "        text-align: right;\n",
       "    }\n",
       "</style>\n",
       "<table border=\"1\" class=\"dataframe\">\n",
       "  <thead>\n",
       "    <tr style=\"text-align: right;\">\n",
       "      <th></th>\n",
       "      <th>T</th>\n",
       "      <th>dof</th>\n",
       "      <th>alternative</th>\n",
       "      <th>p-val</th>\n",
       "      <th>CI95%</th>\n",
       "      <th>cohen-d</th>\n",
       "      <th>BF10</th>\n",
       "      <th>power</th>\n",
       "    </tr>\n",
       "  </thead>\n",
       "  <tbody>\n",
       "    <tr>\n",
       "      <th>T-test</th>\n",
       "      <td>2.104355</td>\n",
       "      <td>4</td>\n",
       "      <td>two-sided</td>\n",
       "      <td>0.103145</td>\n",
       "      <td>[-18.66, 135.53]</td>\n",
       "      <td>1.718199</td>\n",
       "      <td>1.353</td>\n",
       "      <td>0.364469</td>\n",
       "    </tr>\n",
       "  </tbody>\n",
       "</table>\n",
       "</div>"
      ],
      "text/plain": [
       "               T  dof alternative     p-val             CI95%   cohen-d  \\\n",
       "T-test  2.104355    4   two-sided  0.103145  [-18.66, 135.53]  1.718199   \n",
       "\n",
       "         BF10     power  \n",
       "T-test  1.353  0.364469  "
      ]
     },
     "execution_count": 50,
     "metadata": {},
     "output_type": "execute_result"
    }
   ],
   "source": [
    "# t-test monthly_sale (trial)\n",
    "pg.ttest(trial_df.loc[77]['m_total_sales'],trial_df.loc[233]['m_total_sales'])"
   ]
  },
  {
   "cell_type": "code",
   "execution_count": 51,
   "id": "315b7aff-9782-41e9-8960-b81144394347",
   "metadata": {},
   "outputs": [
    {
     "data": {
      "text/html": [
       "<div>\n",
       "<style scoped>\n",
       "    .dataframe tbody tr th:only-of-type {\n",
       "        vertical-align: middle;\n",
       "    }\n",
       "\n",
       "    .dataframe tbody tr th {\n",
       "        vertical-align: top;\n",
       "    }\n",
       "\n",
       "    .dataframe thead th {\n",
       "        text-align: right;\n",
       "    }\n",
       "</style>\n",
       "<table border=\"1\" class=\"dataframe\">\n",
       "  <thead>\n",
       "    <tr style=\"text-align: right;\">\n",
       "      <th></th>\n",
       "      <th>T</th>\n",
       "      <th>dof</th>\n",
       "      <th>alternative</th>\n",
       "      <th>p-val</th>\n",
       "      <th>CI95%</th>\n",
       "      <th>cohen-d</th>\n",
       "      <th>BF10</th>\n",
       "      <th>power</th>\n",
       "    </tr>\n",
       "  </thead>\n",
       "  <tbody>\n",
       "    <tr>\n",
       "      <th>T-test</th>\n",
       "      <td>1.938487</td>\n",
       "      <td>4</td>\n",
       "      <td>two-sided</td>\n",
       "      <td>0.124594</td>\n",
       "      <td>[-3.89, 21.89]</td>\n",
       "      <td>1.582768</td>\n",
       "      <td>1.227</td>\n",
       "      <td>0.319544</td>\n",
       "    </tr>\n",
       "  </tbody>\n",
       "</table>\n",
       "</div>"
      ],
      "text/plain": [
       "               T  dof alternative     p-val           CI95%   cohen-d   BF10  \\\n",
       "T-test  1.938487    4   two-sided  0.124594  [-3.89, 21.89]  1.582768  1.227   \n",
       "\n",
       "           power  \n",
       "T-test  0.319544  "
      ]
     },
     "execution_count": 51,
     "metadata": {},
     "output_type": "execute_result"
    }
   ],
   "source": [
    "# t-test monthly_custs (trial)\n",
    "pg.ttest(trial_df.loc[77]['m_cust'],trial_df.loc[233]['m_cust'])"
   ]
  },
  {
   "cell_type": "code",
   "execution_count": 52,
   "id": "931b8df5-0e8d-4132-a5a6-d6b9a0bbe81e",
   "metadata": {},
   "outputs": [
    {
     "data": {
      "text/plain": [
       "<matplotlib.legend.Legend at 0x1bbe94a06d0>"
      ]
     },
     "execution_count": 52,
     "metadata": {},
     "output_type": "execute_result"
    },
    {
     "data": {
      "image/png": "[encoded data removed]",
      "text/plain": [
       "<Figure size 432x288 with 1 Axes>"
      ]
     },
     "metadata": {
      "needs_background": "light"
     },
     "output_type": "display_data"
    }
   ],
   "source": [
    "sns.distplot(trial_df.loc[77]['m_total_sales'])\n",
    "sns.distplot(trial_df.loc[233]['m_total_sales'])\n",
    "plt.legend(labels=['77','233'])"
   ]
  },
  {
   "cell_type": "code",
   "execution_count": 53,
   "id": "d14bb95b-5388-449e-a3e2-8279dfdb8fb9",
   "metadata": {},
   "outputs": [
    {
     "data": {
      "text/plain": [
       "<matplotlib.legend.Legend at 0x1bbe6166160>"
      ]
     },
     "execution_count": 53,
     "metadata": {},
     "output_type": "execute_result"
    },
    {
     "data": {
      "image/png": "[encoded data removed]",
      "text/plain": [
       "<Figure size 432x288 with 1 Axes>"
      ]
     },
     "metadata": {
      "needs_background": "light"
     },
     "output_type": "display_data"
    }
   ],
   "source": [
    "sns.distplot(trial_df.loc[77]['m_cust'])\n",
    "sns.distplot(trial_df.loc[233]['m_cust'])\n",
    "plt.legend(labels=['77','233'])"
   ]
  },
  {
   "cell_type": "markdown",
   "id": "05a145ad-46c5-465d-80e8-53e6370d010e",
   "metadata": {},
   "source": [
    "-----------\n"
   ]
  },
  {
   "cell_type": "code",
   "execution_count": 55,
   "id": "2d213229-5066-4d1c-be06-30490bf82c96",
   "metadata": {},
   "outputs": [],
   "source": [
    "store_with_metric.set_index(['store_nbr','year_month'], inplace = True)"
   ]
  },
  {
   "cell_type": "code",
   "execution_count": 56,
   "id": "f6791a18-5397-4f81-bf93-96b63c98773f",
   "metadata": {},
   "outputs": [
    {
     "data": {
      "text/plain": [
       "<matplotlib.legend.Legend at 0x1bbe96a63d0>"
      ]
     },
     "execution_count": 56,
     "metadata": {},
     "output_type": "execute_result"
    },
    {
     "data": {
      "image/png": "[encoded data removed]",
      "text/plain": [
       "<Figure size 720x432 with 1 Axes>"
      ]
     },
     "metadata": {
      "needs_background": "light"
     },
     "output_type": "display_data"
    }
   ],
   "source": [
    "plt.figure(figsize = (10,6))\n",
    "store_with_metric.loc[(77,'2018-07'):(77,'2019-04')]['m_total_sales'].plot()\n",
    "store_with_metric.loc[(233,'2018-07'):(233,'2019-04')]['m_total_sales'].plot()\n",
    "plt.title('Full monthly_sale store 77, 233')\n",
    "plt.legend(labels = ['77', '233'])"
   ]
  },
  {
   "cell_type": "code",
   "execution_count": 57,
   "id": "3bdc5a0d-593b-4451-b13d-1e6a692e9244",
   "metadata": {},
   "outputs": [
    {
     "data": {
      "text/plain": [
       "<matplotlib.legend.Legend at 0x1bbe973a460>"
      ]
     },
     "execution_count": 57,
     "metadata": {},
     "output_type": "execute_result"
    },
    {
     "data": {
      "image/png": "[encoded data removed]",
      "text/plain": [
       "<Figure size 720x432 with 1 Axes>"
      ]
     },
     "metadata": {
      "needs_background": "light"
     },
     "output_type": "display_data"
    }
   ],
   "source": [
    "plt.figure(figsize = (10,6))\n",
    "store_with_metric.loc[(77,'2018-07'):(77,'2019-04')]['m_cust'].plot()\n",
    "store_with_metric.loc[(233,'2018-07'):(233,'2019-04')]['m_cust'].plot()\n",
    "plt.title('Full period monthly_custs store 77, 233')\n",
    "plt.legend(labels = ['77', '233'])"
   ]
  },
  {
   "cell_type": "markdown",
   "id": "f9c22f9f-9081-4e82-b7dc-ba2065f4cdc0",
   "metadata": {},
   "source": [
    "conclution : significant increase in sales of chips in trial stores in the trial period."
   ]
  },
  {
   "cell_type": "markdown",
   "id": "789157ca-73e9-46c2-a0e0-aca89c76e0d9",
   "metadata": {},
   "source": [
    "---------------"
   ]
  }
 ],
 "metadata": {
  "kernelspec": {
   "display_name": "Python 3 (ipykernel)",
   "language": "python",
   "name": "python3"
  },
  "language_info": {
   "codemirror_mode": {
    "name": "ipython",
    "version": 3
   },
   "file_extension": ".py",
   "mimetype": "text/x-python",
   "name": "python",
   "nbconvert_exporter": "python",
   "pygments_lexer": "ipython3",
   "version": "3.8.12"
  }
 },
 "nbformat": 4,
 "nbformat_minor": 5
}
